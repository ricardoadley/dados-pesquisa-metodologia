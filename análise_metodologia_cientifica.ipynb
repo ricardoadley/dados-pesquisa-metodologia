{
  "nbformat": 4,
  "nbformat_minor": 0,
  "metadata": {
    "colab": {
      "provenance": [],
      "include_colab_link": true
    },
    "kernelspec": {
      "name": "python3",
      "display_name": "Python 3"
    },
    "language_info": {
      "name": "python"
    }
  },
  "cells": [
    {
      "cell_type": "markdown",
      "metadata": {
        "id": "view-in-github",
        "colab_type": "text"
      },
      "source": [
        "<a href=\"https://colab.research.google.com/github/ricardoadley/dados-pesquisa-metodologia/blob/main/an%C3%A1lise_metodologia_cientifica.ipynb\" target=\"_parent\"><img src=\"https://colab.research.google.com/assets/colab-badge.svg\" alt=\"Open In Colab\"/></a>"
      ]
    },
    {
      "cell_type": "markdown",
      "source": [
        "- O contato com jogos digitais influencia a escolha pelo curso de ciência da\n",
        "computação\n",
        "- O uso excessivo de jogos digitais durante a graduação prejudica o\n",
        "desempenho acadêmico, bem como a saúde mental, a qualidade do sono e o\n",
        "convívio social"
      ],
      "metadata": {
        "id": "5BTgFmiajRF6"
      }
    },
    {
      "cell_type": "code",
      "source": [
        "# imports\n",
        "\n",
        "import pandas as pd\n",
        "import seaborn as sns\n",
        "import matplotlib.pyplot as plt\n",
        "from sklearn.utils import resample\n",
        "import numpy as np "
      ],
      "metadata": {
        "id": "TkvqIXuTa2IM"
      },
      "execution_count": 1,
      "outputs": []
    },
    {
      "cell_type": "code",
      "execution_count": 2,
      "metadata": {
        "colab": {
          "base_uri": "https://localhost:8080/",
          "height": 1000
        },
        "id": "mgpWoHNXTq9V",
        "outputId": "3ce9381e-4a4d-4c7d-9262-f005b47c3a1b"
      },
      "outputs": [
        {
          "output_type": "execute_result",
          "data": {
            "text/plain": [
              "             Carimbo de data/hora  \\\n",
              "0     2022/11/22 6:44:52 PM GMT-3   \n",
              "1     2022/11/22 6:45:16 PM GMT-3   \n",
              "2     2022/11/22 6:45:24 PM GMT-3   \n",
              "3     2022/11/22 6:45:33 PM GMT-3   \n",
              "4     2022/11/22 6:52:30 PM GMT-3   \n",
              "..                            ...   \n",
              "109   2022/11/29 3:21:00 PM GMT-3   \n",
              "110  2022/11/29 11:08:07 PM GMT-3   \n",
              "111  2022/11/30 10:54:28 AM GMT-3   \n",
              "112   2022/11/30 9:47:47 PM GMT-3   \n",
              "113   2022/12/01 8:29:49 PM GMT-3   \n",
              "\n",
              "    Para confirmar sua participação, precisamos que concorde com o seguinte termo de consentimento: \\nConcordo em participar voluntariamente do presente estudo, consciente de que todas as minhas respostas permanecerão em modo anônimo.\\n  \\\n",
              "0                          Concordo e desejo continuar                                                                                                                                                                                         \n",
              "1                          Concordo e desejo continuar                                                                                                                                                                                         \n",
              "2                          Concordo e desejo continuar                                                                                                                                                                                         \n",
              "3                          Concordo e desejo continuar                                                                                                                                                                                         \n",
              "4                          Concordo e desejo continuar                                                                                                                                                                                         \n",
              "..                                                 ...                                                                                                                                                                                         \n",
              "109                        Concordo e desejo continuar                                                                                                                                                                                         \n",
              "110                        Concordo e desejo continuar                                                                                                                                                                                         \n",
              "111                        Concordo e desejo continuar                                                                                                                                                                                         \n",
              "112                        Concordo e desejo continuar                                                                                                                                                                                         \n",
              "113                        Concordo e desejo continuar                                                                                                                                                                                         \n",
              "\n",
              "    Sobre o consumo de jogos digitais, como você se define?  \\\n",
              "0    Jogava com frequência, mas parei/reduzi a freq...        \n",
              "1    Jogava com frequência antes de ingressar no cu...        \n",
              "2    Jogava com frequência, mas parei/reduzi a freq...        \n",
              "3    Jogava com frequência, mas parei/reduzi a freq...        \n",
              "4    Jogava com frequência, mas parei/reduzi a freq...        \n",
              "..                                                 ...        \n",
              "109  Não jogava antes de ingressar no curso e conti...        \n",
              "110  Jogava com frequência antes de ingressar no cu...        \n",
              "111  Jogava com frequência, mas parei/reduzi a freq...        \n",
              "112  Jogava com frequência, mas parei/reduzi a freq...        \n",
              "113  Jogava com frequência, mas parei/reduzi a freq...        \n",
              "\n",
              "     Jogar influenciou na sua decisão de entrar no curso?  \\\n",
              "0                                             Concordo      \n",
              "1                                             Concordo      \n",
              "2                                             Discordo      \n",
              "3                                             Concordo      \n",
              "4                                             Concordo      \n",
              "..                                                 ...      \n",
              "109                                                NaN      \n",
              "110                                Discordo totalmente      \n",
              "111                          Não concordo nem discordo      \n",
              "112                                           Concordo      \n",
              "113                          Não concordo nem discordo      \n",
              "\n",
              "    Quantas horas por semana você joga?  \\\n",
              "0           Entre 5 e 10 horas semanais   \n",
              "1             Mais de 30 horas semanais   \n",
              "2            Entre 0 e 4 horas semanais   \n",
              "3          Entre 21 e 30 horas semanais   \n",
              "4            Entre 0 e 4 horas semanais   \n",
              "..                                  ...   \n",
              "109                                 NaN   \n",
              "110          Entre 0 e 4 horas semanais   \n",
              "111         Entre 5 e 10 horas semanais   \n",
              "112          Entre 0 e 4 horas semanais   \n",
              "113          Entre 0 e 4 horas semanais   \n",
              "\n",
              "    Quantas horas semanais você dedica à graduação (Excluindo os horários em sala de aula)?  \\\n",
              "0                         Entre 11 e 20 horas semanais                                        \n",
              "1                          Entre 5 e 10 horas semanais                                        \n",
              "2                         Entre 11 e 20 horas semanais                                        \n",
              "3                          Entre 5 e 10 horas semanais                                        \n",
              "4                          Entre 5 e 10 horas semanais                                        \n",
              "..                                                 ...                                        \n",
              "109                                                NaN                                        \n",
              "110                       Entre 21 e 30 horas semanais                                        \n",
              "111                       Entre 11 e 20 horas semanais                                        \n",
              "112                       Entre 11 e 20 horas semanais                                        \n",
              "113                       Entre 11 e 20 horas semanais                                        \n",
              "\n",
              "    Jogar atrapalhou/atrapalha o seu desempenho acadêmico?  \\\n",
              "0                            Não concordo nem discordo       \n",
              "1                            Não concordo nem discordo       \n",
              "2                                             Discordo       \n",
              "3                                             Discordo       \n",
              "4                                  Discordo totalmente       \n",
              "..                                                 ...       \n",
              "109                                                NaN       \n",
              "110                                           Discordo       \n",
              "111                                           Concordo       \n",
              "112                          Não concordo nem discordo       \n",
              "113                                           Concordo       \n",
              "\n",
              "    Quanto você considera o ambiente/comunidade dos jogos digitais nocivo ao bem estar e saúde mental?\\n  \\\n",
              "0                                 Moderadamente nocivo                                                     \n",
              "1                                      Um pouco nocivo                                                     \n",
              "2                                      Um pouco nocivo                                                     \n",
              "3                                      Um pouco nocivo                                                     \n",
              "4                                         Muito nocivo                                                     \n",
              "..                                                 ...                                                     \n",
              "109                                                NaN                                                     \n",
              "110                                    Um pouco nocivo                                                     \n",
              "111                                       Muito nocivo                                                     \n",
              "112                                    Um pouco nocivo                                                     \n",
              "113                               Moderadamente nocivo                                                     \n",
              "\n",
              "    Já foi alvo de comportamento nocivo no ambiente de jogos online?  \\\n",
              "0                                                  Sim                 \n",
              "1                                                  Sim                 \n",
              "2                                                  Sim                 \n",
              "3                                                  Sim                 \n",
              "4                                                  Sim                 \n",
              "..                                                 ...                 \n",
              "109                                                NaN                 \n",
              "110                                                Não                 \n",
              "111                                                Sim                 \n",
              "112                                                Sim                 \n",
              "113                                                Sim                 \n",
              "\n",
              "     Caso a resposta anterior tenha sido SIM\\n\\nQuanto esse comportamento nocivo no ambiente de jogos digitais afetou o seu bem estar ?\\n\\nSendo 1 para NÃO AFETOU e 5 para AFETOU MUITO  \\\n",
              "0                                                  4.0                                                                                                                                     \n",
              "1                                                  2.0                                                                                                                                     \n",
              "2                                                  3.0                                                                                                                                     \n",
              "3                                                  4.0                                                                                                                                     \n",
              "4                                                  1.0                                                                                                                                     \n",
              "..                                                 ...                                                                                                                                     \n",
              "109                                                NaN                                                                                                                                     \n",
              "110                                                1.0                                                                                                                                     \n",
              "111                                                4.0                                                                                                                                     \n",
              "112                                                3.0                                                                                                                                     \n",
              "113                                                2.0                                                                                                                                     \n",
              "\n",
              "    Com que frequência o consumo de jogos digitais afeta o seu sono?  \n",
              "0                                               Neutro                \n",
              "1                                      Raramente/Nunca                \n",
              "2                                               Neutro                \n",
              "3                                       Frequentemente                \n",
              "4                                      Raramente/Nunca                \n",
              "..                                                 ...                \n",
              "109                                                NaN                \n",
              "110                                     Ocasionalmente                \n",
              "111                                     Ocasionalmente                \n",
              "112                                     Ocasionalmente                \n",
              "113                                     Frequentemente                \n",
              "\n",
              "[114 rows x 11 columns]"
            ],
            "text/html": [
              "\n",
              "  <div id=\"df-bac64ac8-6311-449a-a7e5-441c502304c1\">\n",
              "    <div class=\"colab-df-container\">\n",
              "      <div>\n",
              "<style scoped>\n",
              "    .dataframe tbody tr th:only-of-type {\n",
              "        vertical-align: middle;\n",
              "    }\n",
              "\n",
              "    .dataframe tbody tr th {\n",
              "        vertical-align: top;\n",
              "    }\n",
              "\n",
              "    .dataframe thead th {\n",
              "        text-align: right;\n",
              "    }\n",
              "</style>\n",
              "<table border=\"1\" class=\"dataframe\">\n",
              "  <thead>\n",
              "    <tr style=\"text-align: right;\">\n",
              "      <th></th>\n",
              "      <th>Carimbo de data/hora</th>\n",
              "      <th>Para confirmar sua participação, precisamos que concorde com o seguinte termo de consentimento: \\nConcordo em participar voluntariamente do presente estudo, consciente de que todas as minhas respostas permanecerão em modo anônimo.\\n</th>\n",
              "      <th>Sobre o consumo de jogos digitais, como você se define?</th>\n",
              "      <th>Jogar influenciou na sua decisão de entrar no curso?</th>\n",
              "      <th>Quantas horas por semana você joga?</th>\n",
              "      <th>Quantas horas semanais você dedica à graduação (Excluindo os horários em sala de aula)?</th>\n",
              "      <th>Jogar atrapalhou/atrapalha o seu desempenho acadêmico?</th>\n",
              "      <th>Quanto você considera o ambiente/comunidade dos jogos digitais nocivo ao bem estar e saúde mental?\\n</th>\n",
              "      <th>Já foi alvo de comportamento nocivo no ambiente de jogos online?</th>\n",
              "      <th>Caso a resposta anterior tenha sido SIM\\n\\nQuanto esse comportamento nocivo no ambiente de jogos digitais afetou o seu bem estar ?\\n\\nSendo 1 para NÃO AFETOU e 5 para AFETOU MUITO</th>\n",
              "      <th>Com que frequência o consumo de jogos digitais afeta o seu sono?</th>\n",
              "    </tr>\n",
              "  </thead>\n",
              "  <tbody>\n",
              "    <tr>\n",
              "      <th>0</th>\n",
              "      <td>2022/11/22 6:44:52 PM GMT-3</td>\n",
              "      <td>Concordo e desejo continuar</td>\n",
              "      <td>Jogava com frequência, mas parei/reduzi a freq...</td>\n",
              "      <td>Concordo</td>\n",
              "      <td>Entre 5 e 10 horas semanais</td>\n",
              "      <td>Entre 11 e 20 horas semanais</td>\n",
              "      <td>Não concordo nem discordo</td>\n",
              "      <td>Moderadamente nocivo</td>\n",
              "      <td>Sim</td>\n",
              "      <td>4.0</td>\n",
              "      <td>Neutro</td>\n",
              "    </tr>\n",
              "    <tr>\n",
              "      <th>1</th>\n",
              "      <td>2022/11/22 6:45:16 PM GMT-3</td>\n",
              "      <td>Concordo e desejo continuar</td>\n",
              "      <td>Jogava com frequência antes de ingressar no cu...</td>\n",
              "      <td>Concordo</td>\n",
              "      <td>Mais de 30 horas semanais</td>\n",
              "      <td>Entre 5 e 10 horas semanais</td>\n",
              "      <td>Não concordo nem discordo</td>\n",
              "      <td>Um pouco nocivo</td>\n",
              "      <td>Sim</td>\n",
              "      <td>2.0</td>\n",
              "      <td>Raramente/Nunca</td>\n",
              "    </tr>\n",
              "    <tr>\n",
              "      <th>2</th>\n",
              "      <td>2022/11/22 6:45:24 PM GMT-3</td>\n",
              "      <td>Concordo e desejo continuar</td>\n",
              "      <td>Jogava com frequência, mas parei/reduzi a freq...</td>\n",
              "      <td>Discordo</td>\n",
              "      <td>Entre 0 e 4 horas semanais</td>\n",
              "      <td>Entre 11 e 20 horas semanais</td>\n",
              "      <td>Discordo</td>\n",
              "      <td>Um pouco nocivo</td>\n",
              "      <td>Sim</td>\n",
              "      <td>3.0</td>\n",
              "      <td>Neutro</td>\n",
              "    </tr>\n",
              "    <tr>\n",
              "      <th>3</th>\n",
              "      <td>2022/11/22 6:45:33 PM GMT-3</td>\n",
              "      <td>Concordo e desejo continuar</td>\n",
              "      <td>Jogava com frequência, mas parei/reduzi a freq...</td>\n",
              "      <td>Concordo</td>\n",
              "      <td>Entre 21 e 30 horas semanais</td>\n",
              "      <td>Entre 5 e 10 horas semanais</td>\n",
              "      <td>Discordo</td>\n",
              "      <td>Um pouco nocivo</td>\n",
              "      <td>Sim</td>\n",
              "      <td>4.0</td>\n",
              "      <td>Frequentemente</td>\n",
              "    </tr>\n",
              "    <tr>\n",
              "      <th>4</th>\n",
              "      <td>2022/11/22 6:52:30 PM GMT-3</td>\n",
              "      <td>Concordo e desejo continuar</td>\n",
              "      <td>Jogava com frequência, mas parei/reduzi a freq...</td>\n",
              "      <td>Concordo</td>\n",
              "      <td>Entre 0 e 4 horas semanais</td>\n",
              "      <td>Entre 5 e 10 horas semanais</td>\n",
              "      <td>Discordo totalmente</td>\n",
              "      <td>Muito nocivo</td>\n",
              "      <td>Sim</td>\n",
              "      <td>1.0</td>\n",
              "      <td>Raramente/Nunca</td>\n",
              "    </tr>\n",
              "    <tr>\n",
              "      <th>...</th>\n",
              "      <td>...</td>\n",
              "      <td>...</td>\n",
              "      <td>...</td>\n",
              "      <td>...</td>\n",
              "      <td>...</td>\n",
              "      <td>...</td>\n",
              "      <td>...</td>\n",
              "      <td>...</td>\n",
              "      <td>...</td>\n",
              "      <td>...</td>\n",
              "      <td>...</td>\n",
              "    </tr>\n",
              "    <tr>\n",
              "      <th>109</th>\n",
              "      <td>2022/11/29 3:21:00 PM GMT-3</td>\n",
              "      <td>Concordo e desejo continuar</td>\n",
              "      <td>Não jogava antes de ingressar no curso e conti...</td>\n",
              "      <td>NaN</td>\n",
              "      <td>NaN</td>\n",
              "      <td>NaN</td>\n",
              "      <td>NaN</td>\n",
              "      <td>NaN</td>\n",
              "      <td>NaN</td>\n",
              "      <td>NaN</td>\n",
              "      <td>NaN</td>\n",
              "    </tr>\n",
              "    <tr>\n",
              "      <th>110</th>\n",
              "      <td>2022/11/29 11:08:07 PM GMT-3</td>\n",
              "      <td>Concordo e desejo continuar</td>\n",
              "      <td>Jogava com frequência antes de ingressar no cu...</td>\n",
              "      <td>Discordo totalmente</td>\n",
              "      <td>Entre 0 e 4 horas semanais</td>\n",
              "      <td>Entre 21 e 30 horas semanais</td>\n",
              "      <td>Discordo</td>\n",
              "      <td>Um pouco nocivo</td>\n",
              "      <td>Não</td>\n",
              "      <td>1.0</td>\n",
              "      <td>Ocasionalmente</td>\n",
              "    </tr>\n",
              "    <tr>\n",
              "      <th>111</th>\n",
              "      <td>2022/11/30 10:54:28 AM GMT-3</td>\n",
              "      <td>Concordo e desejo continuar</td>\n",
              "      <td>Jogava com frequência, mas parei/reduzi a freq...</td>\n",
              "      <td>Não concordo nem discordo</td>\n",
              "      <td>Entre 5 e 10 horas semanais</td>\n",
              "      <td>Entre 11 e 20 horas semanais</td>\n",
              "      <td>Concordo</td>\n",
              "      <td>Muito nocivo</td>\n",
              "      <td>Sim</td>\n",
              "      <td>4.0</td>\n",
              "      <td>Ocasionalmente</td>\n",
              "    </tr>\n",
              "    <tr>\n",
              "      <th>112</th>\n",
              "      <td>2022/11/30 9:47:47 PM GMT-3</td>\n",
              "      <td>Concordo e desejo continuar</td>\n",
              "      <td>Jogava com frequência, mas parei/reduzi a freq...</td>\n",
              "      <td>Concordo</td>\n",
              "      <td>Entre 0 e 4 horas semanais</td>\n",
              "      <td>Entre 11 e 20 horas semanais</td>\n",
              "      <td>Não concordo nem discordo</td>\n",
              "      <td>Um pouco nocivo</td>\n",
              "      <td>Sim</td>\n",
              "      <td>3.0</td>\n",
              "      <td>Ocasionalmente</td>\n",
              "    </tr>\n",
              "    <tr>\n",
              "      <th>113</th>\n",
              "      <td>2022/12/01 8:29:49 PM GMT-3</td>\n",
              "      <td>Concordo e desejo continuar</td>\n",
              "      <td>Jogava com frequência, mas parei/reduzi a freq...</td>\n",
              "      <td>Não concordo nem discordo</td>\n",
              "      <td>Entre 0 e 4 horas semanais</td>\n",
              "      <td>Entre 11 e 20 horas semanais</td>\n",
              "      <td>Concordo</td>\n",
              "      <td>Moderadamente nocivo</td>\n",
              "      <td>Sim</td>\n",
              "      <td>2.0</td>\n",
              "      <td>Frequentemente</td>\n",
              "    </tr>\n",
              "  </tbody>\n",
              "</table>\n",
              "<p>114 rows × 11 columns</p>\n",
              "</div>\n",
              "      <button class=\"colab-df-convert\" onclick=\"convertToInteractive('df-bac64ac8-6311-449a-a7e5-441c502304c1')\"\n",
              "              title=\"Convert this dataframe to an interactive table.\"\n",
              "              style=\"display:none;\">\n",
              "        \n",
              "  <svg xmlns=\"http://www.w3.org/2000/svg\" height=\"24px\"viewBox=\"0 0 24 24\"\n",
              "       width=\"24px\">\n",
              "    <path d=\"M0 0h24v24H0V0z\" fill=\"none\"/>\n",
              "    <path d=\"M18.56 5.44l.94 2.06.94-2.06 2.06-.94-2.06-.94-.94-2.06-.94 2.06-2.06.94zm-11 1L8.5 8.5l.94-2.06 2.06-.94-2.06-.94L8.5 2.5l-.94 2.06-2.06.94zm10 10l.94 2.06.94-2.06 2.06-.94-2.06-.94-.94-2.06-.94 2.06-2.06.94z\"/><path d=\"M17.41 7.96l-1.37-1.37c-.4-.4-.92-.59-1.43-.59-.52 0-1.04.2-1.43.59L10.3 9.45l-7.72 7.72c-.78.78-.78 2.05 0 2.83L4 21.41c.39.39.9.59 1.41.59.51 0 1.02-.2 1.41-.59l7.78-7.78 2.81-2.81c.8-.78.8-2.07 0-2.86zM5.41 20L4 18.59l7.72-7.72 1.47 1.35L5.41 20z\"/>\n",
              "  </svg>\n",
              "      </button>\n",
              "      \n",
              "  <style>\n",
              "    .colab-df-container {\n",
              "      display:flex;\n",
              "      flex-wrap:wrap;\n",
              "      gap: 12px;\n",
              "    }\n",
              "\n",
              "    .colab-df-convert {\n",
              "      background-color: #E8F0FE;\n",
              "      border: none;\n",
              "      border-radius: 50%;\n",
              "      cursor: pointer;\n",
              "      display: none;\n",
              "      fill: #1967D2;\n",
              "      height: 32px;\n",
              "      padding: 0 0 0 0;\n",
              "      width: 32px;\n",
              "    }\n",
              "\n",
              "    .colab-df-convert:hover {\n",
              "      background-color: #E2EBFA;\n",
              "      box-shadow: 0px 1px 2px rgba(60, 64, 67, 0.3), 0px 1px 3px 1px rgba(60, 64, 67, 0.15);\n",
              "      fill: #174EA6;\n",
              "    }\n",
              "\n",
              "    [theme=dark] .colab-df-convert {\n",
              "      background-color: #3B4455;\n",
              "      fill: #D2E3FC;\n",
              "    }\n",
              "\n",
              "    [theme=dark] .colab-df-convert:hover {\n",
              "      background-color: #434B5C;\n",
              "      box-shadow: 0px 1px 3px 1px rgba(0, 0, 0, 0.15);\n",
              "      filter: drop-shadow(0px 1px 2px rgba(0, 0, 0, 0.3));\n",
              "      fill: #FFFFFF;\n",
              "    }\n",
              "  </style>\n",
              "\n",
              "      <script>\n",
              "        const buttonEl =\n",
              "          document.querySelector('#df-bac64ac8-6311-449a-a7e5-441c502304c1 button.colab-df-convert');\n",
              "        buttonEl.style.display =\n",
              "          google.colab.kernel.accessAllowed ? 'block' : 'none';\n",
              "\n",
              "        async function convertToInteractive(key) {\n",
              "          const element = document.querySelector('#df-bac64ac8-6311-449a-a7e5-441c502304c1');\n",
              "          const dataTable =\n",
              "            await google.colab.kernel.invokeFunction('convertToInteractive',\n",
              "                                                     [key], {});\n",
              "          if (!dataTable) return;\n",
              "\n",
              "          const docLinkHtml = 'Like what you see? Visit the ' +\n",
              "            '<a target=\"_blank\" href=https://colab.research.google.com/notebooks/data_table.ipynb>data table notebook</a>'\n",
              "            + ' to learn more about interactive tables.';\n",
              "          element.innerHTML = '';\n",
              "          dataTable['output_type'] = 'display_data';\n",
              "          await google.colab.output.renderOutput(dataTable, element);\n",
              "          const docLink = document.createElement('div');\n",
              "          docLink.innerHTML = docLinkHtml;\n",
              "          element.appendChild(docLink);\n",
              "        }\n",
              "      </script>\n",
              "    </div>\n",
              "  </div>\n",
              "  "
            ]
          },
          "metadata": {},
          "execution_count": 2
        }
      ],
      "source": [
        "# Carregando o dataframe\n",
        "\n",
        "df = pd.read_csv('https://docs.google.com/uc?export=download&id=1WbWTXoPW6fVd7gVAQrN_uq0NXPGw4xpa')\n",
        "df"
      ]
    },
    {
      "cell_type": "code",
      "source": [
        "# preparando os dados para análise\n",
        "\n",
        "### removendo as colunas de data e hora e a coluna do termo de consentimento que não são importantes para a análise\n",
        "df = df.drop(df.columns[[0,1]], axis = 1)\n",
        "\n",
        "### renomeando colunas para melhor entendimento\n",
        "df.rename(columns={df.columns[0]: 'perfil', df.columns[1]: 'influenciou para entrar no curso', df.columns[2]: 'horas semanais em jogos', df.columns[3]: 'horas semanais na graduacao', df.columns[4]: 'atrapalha desempenho acadêmico',df.columns[5]: 'quão nocivos a saude mental', df.columns[6]: 'foi alvo de comportamento nocivo', df.columns[7]: 'quão afetado pelo comportamento nocivo', df.columns[8]: 'frequencia que afeta sono'}, inplace=True)\n",
        "\n",
        "### removendo colunas com valores nulos (correspondem as respostas de quem não joga jogos digitais)\n",
        "df = df[df.perfil != 'Não jogava antes de ingressar no curso e continuo sem jogar']\n",
        "\n",
        "### Transformando a coluna \"quao afetado pelo comportamento nocivo\" de string para float\"\n",
        "df['quão afetado pelo comportamento nocivo'] = df['quão afetado pelo comportamento nocivo'].astype(float)\n",
        "df\n"
      ],
      "metadata": {
        "id": "Fy5xgjAdcLcq",
        "colab": {
          "base_uri": "https://localhost:8080/",
          "height": 659
        },
        "outputId": "bf9362c7-bc0d-43b7-b8bc-881b4971f3c9"
      },
      "execution_count": 3,
      "outputs": [
        {
          "output_type": "execute_result",
          "data": {
            "text/plain": [
              "                                                perfil  \\\n",
              "0    Jogava com frequência, mas parei/reduzi a freq...   \n",
              "1    Jogava com frequência antes de ingressar no cu...   \n",
              "2    Jogava com frequência, mas parei/reduzi a freq...   \n",
              "3    Jogava com frequência, mas parei/reduzi a freq...   \n",
              "4    Jogava com frequência, mas parei/reduzi a freq...   \n",
              "..                                                 ...   \n",
              "108  Jogava com frequência antes de ingressar no cu...   \n",
              "110  Jogava com frequência antes de ingressar no cu...   \n",
              "111  Jogava com frequência, mas parei/reduzi a freq...   \n",
              "112  Jogava com frequência, mas parei/reduzi a freq...   \n",
              "113  Jogava com frequência, mas parei/reduzi a freq...   \n",
              "\n",
              "    influenciou para entrar no curso       horas semanais em jogos  \\\n",
              "0                           Concordo   Entre 5 e 10 horas semanais   \n",
              "1                           Concordo     Mais de 30 horas semanais   \n",
              "2                           Discordo    Entre 0 e 4 horas semanais   \n",
              "3                           Concordo  Entre 21 e 30 horas semanais   \n",
              "4                           Concordo    Entre 0 e 4 horas semanais   \n",
              "..                               ...                           ...   \n",
              "108        Não concordo nem discordo  Entre 11 e 20 horas semanais   \n",
              "110              Discordo totalmente    Entre 0 e 4 horas semanais   \n",
              "111        Não concordo nem discordo   Entre 5 e 10 horas semanais   \n",
              "112                         Concordo    Entre 0 e 4 horas semanais   \n",
              "113        Não concordo nem discordo    Entre 0 e 4 horas semanais   \n",
              "\n",
              "      horas semanais na graduacao atrapalha desempenho acadêmico  \\\n",
              "0    Entre 11 e 20 horas semanais      Não concordo nem discordo   \n",
              "1     Entre 5 e 10 horas semanais      Não concordo nem discordo   \n",
              "2    Entre 11 e 20 horas semanais                       Discordo   \n",
              "3     Entre 5 e 10 horas semanais                       Discordo   \n",
              "4     Entre 5 e 10 horas semanais            Discordo totalmente   \n",
              "..                            ...                            ...   \n",
              "108  Entre 21 e 30 horas semanais                       Discordo   \n",
              "110  Entre 21 e 30 horas semanais                       Discordo   \n",
              "111  Entre 11 e 20 horas semanais                       Concordo   \n",
              "112  Entre 11 e 20 horas semanais      Não concordo nem discordo   \n",
              "113  Entre 11 e 20 horas semanais                       Concordo   \n",
              "\n",
              "    quão nocivos a saude mental foi alvo de comportamento nocivo  \\\n",
              "0          Moderadamente nocivo                              Sim   \n",
              "1               Um pouco nocivo                              Sim   \n",
              "2               Um pouco nocivo                              Sim   \n",
              "3               Um pouco nocivo                              Sim   \n",
              "4                  Muito nocivo                              Sim   \n",
              "..                          ...                              ...   \n",
              "108        Moderadamente nocivo                              Sim   \n",
              "110             Um pouco nocivo                              Não   \n",
              "111                Muito nocivo                              Sim   \n",
              "112             Um pouco nocivo                              Sim   \n",
              "113        Moderadamente nocivo                              Sim   \n",
              "\n",
              "     quão afetado pelo comportamento nocivo frequencia que afeta sono  \n",
              "0                                       4.0                    Neutro  \n",
              "1                                       2.0           Raramente/Nunca  \n",
              "2                                       3.0                    Neutro  \n",
              "3                                       4.0            Frequentemente  \n",
              "4                                       1.0           Raramente/Nunca  \n",
              "..                                      ...                       ...  \n",
              "108                                     1.0                    Neutro  \n",
              "110                                     1.0            Ocasionalmente  \n",
              "111                                     4.0            Ocasionalmente  \n",
              "112                                     3.0            Ocasionalmente  \n",
              "113                                     2.0            Frequentemente  \n",
              "\n",
              "[96 rows x 9 columns]"
            ],
            "text/html": [
              "\n",
              "  <div id=\"df-9b44ddba-0dd3-48f4-af03-54a1cfb33803\">\n",
              "    <div class=\"colab-df-container\">\n",
              "      <div>\n",
              "<style scoped>\n",
              "    .dataframe tbody tr th:only-of-type {\n",
              "        vertical-align: middle;\n",
              "    }\n",
              "\n",
              "    .dataframe tbody tr th {\n",
              "        vertical-align: top;\n",
              "    }\n",
              "\n",
              "    .dataframe thead th {\n",
              "        text-align: right;\n",
              "    }\n",
              "</style>\n",
              "<table border=\"1\" class=\"dataframe\">\n",
              "  <thead>\n",
              "    <tr style=\"text-align: right;\">\n",
              "      <th></th>\n",
              "      <th>perfil</th>\n",
              "      <th>influenciou para entrar no curso</th>\n",
              "      <th>horas semanais em jogos</th>\n",
              "      <th>horas semanais na graduacao</th>\n",
              "      <th>atrapalha desempenho acadêmico</th>\n",
              "      <th>quão nocivos a saude mental</th>\n",
              "      <th>foi alvo de comportamento nocivo</th>\n",
              "      <th>quão afetado pelo comportamento nocivo</th>\n",
              "      <th>frequencia que afeta sono</th>\n",
              "    </tr>\n",
              "  </thead>\n",
              "  <tbody>\n",
              "    <tr>\n",
              "      <th>0</th>\n",
              "      <td>Jogava com frequência, mas parei/reduzi a freq...</td>\n",
              "      <td>Concordo</td>\n",
              "      <td>Entre 5 e 10 horas semanais</td>\n",
              "      <td>Entre 11 e 20 horas semanais</td>\n",
              "      <td>Não concordo nem discordo</td>\n",
              "      <td>Moderadamente nocivo</td>\n",
              "      <td>Sim</td>\n",
              "      <td>4.0</td>\n",
              "      <td>Neutro</td>\n",
              "    </tr>\n",
              "    <tr>\n",
              "      <th>1</th>\n",
              "      <td>Jogava com frequência antes de ingressar no cu...</td>\n",
              "      <td>Concordo</td>\n",
              "      <td>Mais de 30 horas semanais</td>\n",
              "      <td>Entre 5 e 10 horas semanais</td>\n",
              "      <td>Não concordo nem discordo</td>\n",
              "      <td>Um pouco nocivo</td>\n",
              "      <td>Sim</td>\n",
              "      <td>2.0</td>\n",
              "      <td>Raramente/Nunca</td>\n",
              "    </tr>\n",
              "    <tr>\n",
              "      <th>2</th>\n",
              "      <td>Jogava com frequência, mas parei/reduzi a freq...</td>\n",
              "      <td>Discordo</td>\n",
              "      <td>Entre 0 e 4 horas semanais</td>\n",
              "      <td>Entre 11 e 20 horas semanais</td>\n",
              "      <td>Discordo</td>\n",
              "      <td>Um pouco nocivo</td>\n",
              "      <td>Sim</td>\n",
              "      <td>3.0</td>\n",
              "      <td>Neutro</td>\n",
              "    </tr>\n",
              "    <tr>\n",
              "      <th>3</th>\n",
              "      <td>Jogava com frequência, mas parei/reduzi a freq...</td>\n",
              "      <td>Concordo</td>\n",
              "      <td>Entre 21 e 30 horas semanais</td>\n",
              "      <td>Entre 5 e 10 horas semanais</td>\n",
              "      <td>Discordo</td>\n",
              "      <td>Um pouco nocivo</td>\n",
              "      <td>Sim</td>\n",
              "      <td>4.0</td>\n",
              "      <td>Frequentemente</td>\n",
              "    </tr>\n",
              "    <tr>\n",
              "      <th>4</th>\n",
              "      <td>Jogava com frequência, mas parei/reduzi a freq...</td>\n",
              "      <td>Concordo</td>\n",
              "      <td>Entre 0 e 4 horas semanais</td>\n",
              "      <td>Entre 5 e 10 horas semanais</td>\n",
              "      <td>Discordo totalmente</td>\n",
              "      <td>Muito nocivo</td>\n",
              "      <td>Sim</td>\n",
              "      <td>1.0</td>\n",
              "      <td>Raramente/Nunca</td>\n",
              "    </tr>\n",
              "    <tr>\n",
              "      <th>...</th>\n",
              "      <td>...</td>\n",
              "      <td>...</td>\n",
              "      <td>...</td>\n",
              "      <td>...</td>\n",
              "      <td>...</td>\n",
              "      <td>...</td>\n",
              "      <td>...</td>\n",
              "      <td>...</td>\n",
              "      <td>...</td>\n",
              "    </tr>\n",
              "    <tr>\n",
              "      <th>108</th>\n",
              "      <td>Jogava com frequência antes de ingressar no cu...</td>\n",
              "      <td>Não concordo nem discordo</td>\n",
              "      <td>Entre 11 e 20 horas semanais</td>\n",
              "      <td>Entre 21 e 30 horas semanais</td>\n",
              "      <td>Discordo</td>\n",
              "      <td>Moderadamente nocivo</td>\n",
              "      <td>Sim</td>\n",
              "      <td>1.0</td>\n",
              "      <td>Neutro</td>\n",
              "    </tr>\n",
              "    <tr>\n",
              "      <th>110</th>\n",
              "      <td>Jogava com frequência antes de ingressar no cu...</td>\n",
              "      <td>Discordo totalmente</td>\n",
              "      <td>Entre 0 e 4 horas semanais</td>\n",
              "      <td>Entre 21 e 30 horas semanais</td>\n",
              "      <td>Discordo</td>\n",
              "      <td>Um pouco nocivo</td>\n",
              "      <td>Não</td>\n",
              "      <td>1.0</td>\n",
              "      <td>Ocasionalmente</td>\n",
              "    </tr>\n",
              "    <tr>\n",
              "      <th>111</th>\n",
              "      <td>Jogava com frequência, mas parei/reduzi a freq...</td>\n",
              "      <td>Não concordo nem discordo</td>\n",
              "      <td>Entre 5 e 10 horas semanais</td>\n",
              "      <td>Entre 11 e 20 horas semanais</td>\n",
              "      <td>Concordo</td>\n",
              "      <td>Muito nocivo</td>\n",
              "      <td>Sim</td>\n",
              "      <td>4.0</td>\n",
              "      <td>Ocasionalmente</td>\n",
              "    </tr>\n",
              "    <tr>\n",
              "      <th>112</th>\n",
              "      <td>Jogava com frequência, mas parei/reduzi a freq...</td>\n",
              "      <td>Concordo</td>\n",
              "      <td>Entre 0 e 4 horas semanais</td>\n",
              "      <td>Entre 11 e 20 horas semanais</td>\n",
              "      <td>Não concordo nem discordo</td>\n",
              "      <td>Um pouco nocivo</td>\n",
              "      <td>Sim</td>\n",
              "      <td>3.0</td>\n",
              "      <td>Ocasionalmente</td>\n",
              "    </tr>\n",
              "    <tr>\n",
              "      <th>113</th>\n",
              "      <td>Jogava com frequência, mas parei/reduzi a freq...</td>\n",
              "      <td>Não concordo nem discordo</td>\n",
              "      <td>Entre 0 e 4 horas semanais</td>\n",
              "      <td>Entre 11 e 20 horas semanais</td>\n",
              "      <td>Concordo</td>\n",
              "      <td>Moderadamente nocivo</td>\n",
              "      <td>Sim</td>\n",
              "      <td>2.0</td>\n",
              "      <td>Frequentemente</td>\n",
              "    </tr>\n",
              "  </tbody>\n",
              "</table>\n",
              "<p>96 rows × 9 columns</p>\n",
              "</div>\n",
              "      <button class=\"colab-df-convert\" onclick=\"convertToInteractive('df-9b44ddba-0dd3-48f4-af03-54a1cfb33803')\"\n",
              "              title=\"Convert this dataframe to an interactive table.\"\n",
              "              style=\"display:none;\">\n",
              "        \n",
              "  <svg xmlns=\"http://www.w3.org/2000/svg\" height=\"24px\"viewBox=\"0 0 24 24\"\n",
              "       width=\"24px\">\n",
              "    <path d=\"M0 0h24v24H0V0z\" fill=\"none\"/>\n",
              "    <path d=\"M18.56 5.44l.94 2.06.94-2.06 2.06-.94-2.06-.94-.94-2.06-.94 2.06-2.06.94zm-11 1L8.5 8.5l.94-2.06 2.06-.94-2.06-.94L8.5 2.5l-.94 2.06-2.06.94zm10 10l.94 2.06.94-2.06 2.06-.94-2.06-.94-.94-2.06-.94 2.06-2.06.94z\"/><path d=\"M17.41 7.96l-1.37-1.37c-.4-.4-.92-.59-1.43-.59-.52 0-1.04.2-1.43.59L10.3 9.45l-7.72 7.72c-.78.78-.78 2.05 0 2.83L4 21.41c.39.39.9.59 1.41.59.51 0 1.02-.2 1.41-.59l7.78-7.78 2.81-2.81c.8-.78.8-2.07 0-2.86zM5.41 20L4 18.59l7.72-7.72 1.47 1.35L5.41 20z\"/>\n",
              "  </svg>\n",
              "      </button>\n",
              "      \n",
              "  <style>\n",
              "    .colab-df-container {\n",
              "      display:flex;\n",
              "      flex-wrap:wrap;\n",
              "      gap: 12px;\n",
              "    }\n",
              "\n",
              "    .colab-df-convert {\n",
              "      background-color: #E8F0FE;\n",
              "      border: none;\n",
              "      border-radius: 50%;\n",
              "      cursor: pointer;\n",
              "      display: none;\n",
              "      fill: #1967D2;\n",
              "      height: 32px;\n",
              "      padding: 0 0 0 0;\n",
              "      width: 32px;\n",
              "    }\n",
              "\n",
              "    .colab-df-convert:hover {\n",
              "      background-color: #E2EBFA;\n",
              "      box-shadow: 0px 1px 2px rgba(60, 64, 67, 0.3), 0px 1px 3px 1px rgba(60, 64, 67, 0.15);\n",
              "      fill: #174EA6;\n",
              "    }\n",
              "\n",
              "    [theme=dark] .colab-df-convert {\n",
              "      background-color: #3B4455;\n",
              "      fill: #D2E3FC;\n",
              "    }\n",
              "\n",
              "    [theme=dark] .colab-df-convert:hover {\n",
              "      background-color: #434B5C;\n",
              "      box-shadow: 0px 1px 3px 1px rgba(0, 0, 0, 0.15);\n",
              "      filter: drop-shadow(0px 1px 2px rgba(0, 0, 0, 0.3));\n",
              "      fill: #FFFFFF;\n",
              "    }\n",
              "  </style>\n",
              "\n",
              "      <script>\n",
              "        const buttonEl =\n",
              "          document.querySelector('#df-9b44ddba-0dd3-48f4-af03-54a1cfb33803 button.colab-df-convert');\n",
              "        buttonEl.style.display =\n",
              "          google.colab.kernel.accessAllowed ? 'block' : 'none';\n",
              "\n",
              "        async function convertToInteractive(key) {\n",
              "          const element = document.querySelector('#df-9b44ddba-0dd3-48f4-af03-54a1cfb33803');\n",
              "          const dataTable =\n",
              "            await google.colab.kernel.invokeFunction('convertToInteractive',\n",
              "                                                     [key], {});\n",
              "          if (!dataTable) return;\n",
              "\n",
              "          const docLinkHtml = 'Like what you see? Visit the ' +\n",
              "            '<a target=\"_blank\" href=https://colab.research.google.com/notebooks/data_table.ipynb>data table notebook</a>'\n",
              "            + ' to learn more about interactive tables.';\n",
              "          element.innerHTML = '';\n",
              "          dataTable['output_type'] = 'display_data';\n",
              "          await google.colab.output.renderOutput(dataTable, element);\n",
              "          const docLink = document.createElement('div');\n",
              "          docLink.innerHTML = docLinkHtml;\n",
              "          element.appendChild(docLink);\n",
              "        }\n",
              "      </script>\n",
              "    </div>\n",
              "  </div>\n",
              "  "
            ]
          },
          "metadata": {},
          "execution_count": 3
        }
      ]
    },
    {
      "cell_type": "code",
      "source": [
        "# Análises e visualizações sobre o perfil dos alunos\n",
        "\n",
        "df['perfil'].value_counts().plot(kind='barh', figsize= (11,6), title='Perfil dos alunos em relação ao uso de jogos digitais')\n",
        "\n",
        "# a maioria expressiva tem o habito de jogar jogos digitais\n"
      ],
      "metadata": {
        "id": "_JLrwuCnoSeG",
        "colab": {
          "base_uri": "https://localhost:8080/",
          "height": 407
        },
        "outputId": "981a79f5-b9b0-41a1-aa55-0dbb594cfc30"
      },
      "execution_count": 4,
      "outputs": [
        {
          "output_type": "execute_result",
          "data": {
            "text/plain": [
              "<matplotlib.axes._subplots.AxesSubplot at 0x7fd1a41647f0>"
            ]
          },
          "metadata": {},
          "execution_count": 4
        },
        {
          "output_type": "display_data",
          "data": {
            "text/plain": [
              "<Figure size 792x432 with 1 Axes>"
            ],
            "image/png": "[encoded data removed]"
          },
          "metadata": {
            "needs_background": "light"
          }
        }
      ]
    },
    {
      "cell_type": "code",
      "source": [
        "# Análises e visualizações sobre o perfil dos alunos\n",
        "df['influenciou para entrar no curso'].value_counts().plot(kind='barh', figsize= (11,6), title='Influência dos jogos digitais na escolha pela graduação em Ciência da Computação')"
      ],
      "metadata": {
        "id": "iWC3o3eYNl8E",
        "colab": {
          "base_uri": "https://localhost:8080/",
          "height": 407
        },
        "outputId": "dc024252-f0c6-4fce-bfd5-dba169e3caa4"
      },
      "execution_count": 5,
      "outputs": [
        {
          "output_type": "execute_result",
          "data": {
            "text/plain": [
              "<matplotlib.axes._subplots.AxesSubplot at 0x7fd1a408faf0>"
            ]
          },
          "metadata": {},
          "execution_count": 5
        },
        {
          "output_type": "display_data",
          "data": {
            "text/plain": [
              "<Figure size 792x432 with 1 Axes>"
            ],
            "image/png": "[encoded data removed]"
          },
          "metadata": {
            "needs_background": "light"
          }
        }
      ]
    },
    {
      "cell_type": "code",
      "source": [
        "df['influenciou para entrar no curso'].value_counts()"
      ],
      "metadata": {
        "id": "WQQUpz8zZE4o",
        "colab": {
          "base_uri": "https://localhost:8080/"
        },
        "outputId": "7ab19d24-9628-4bb7-f70a-a2b774643069"
      },
      "execution_count": 6,
      "outputs": [
        {
          "output_type": "execute_result",
          "data": {
            "text/plain": [
              "Concordo                     30\n",
              "Não concordo nem discordo    19\n",
              "Concordo totalmente          18\n",
              "Discordo totalmente          16\n",
              "Discordo                     13\n",
              "Name: influenciou para entrar no curso, dtype: int64"
            ]
          },
          "metadata": {},
          "execution_count": 6
        }
      ]
    },
    {
      "cell_type": "code",
      "source": [
        "# Análises e visualizações sobre o perfil dos alunos\n",
        "\n",
        "df1 = df['horas semanais em jogos'].value_counts()\n",
        "df2 = df['horas semanais na graduacao'].value_counts()\n",
        "\n",
        "d = pd.concat([df1, df2], axis=1)\n",
        "d = d.plot(kind='barh', figsize= (11,6), title='Comparação entre o gasto de horas semanal na graduação e em jogos')\n",
        "\n",
        "d.set_xlabel(\"Quantidade de alunos\")\n",
        "d.set_ylabel(\"Quantidade de horas semanais\")\n",
        "\n",
        "\n",
        "# os alunos parecem gastar mais tempo com a graduação do que com jogos\n"
      ],
      "metadata": {
        "id": "GSJmwqIrPYsd",
        "colab": {
          "base_uri": "https://localhost:8080/",
          "height": 421
        },
        "outputId": "a9920b44-5265-408f-aec7-183268569d9a"
      },
      "execution_count": 7,
      "outputs": [
        {
          "output_type": "execute_result",
          "data": {
            "text/plain": [
              "Text(0, 0.5, 'Quantidade de horas semanais')"
            ]
          },
          "metadata": {},
          "execution_count": 7
        },
        {
          "output_type": "display_data",
          "data": {
            "text/plain": [
              "<Figure size 792x432 with 1 Axes>"
            ],
            "image/png": "[encoded data removed]"
          },
          "metadata": {
            "needs_background": "light"
          }
        }
      ]
    },
    {
      "cell_type": "code",
      "source": [
        "# Analise da relação entre jogos, desempenho na graduação e bem estar - atrapalha desempenho acadêmico\n",
        "df['atrapalha desempenho acadêmico'].value_counts().plot(kind='barh', figsize= (11,6), title='Influência dos jogos digitais sobre o desempenho acadêmico')\n"
      ],
      "metadata": {
        "id": "uGzSinAufwjp",
        "colab": {
          "base_uri": "https://localhost:8080/",
          "height": 407
        },
        "outputId": "3806d074-6578-4365-8623-21527c214ec8"
      },
      "execution_count": 8,
      "outputs": [
        {
          "output_type": "execute_result",
          "data": {
            "text/plain": [
              "<matplotlib.axes._subplots.AxesSubplot at 0x7fd1a3ae0250>"
            ]
          },
          "metadata": {},
          "execution_count": 8
        },
        {
          "output_type": "display_data",
          "data": {
            "text/plain": [
              "<Figure size 792x432 with 1 Axes>"
            ],
            "image/png": "[encoded data removed]"
          },
          "metadata": {
            "needs_background": "light"
          }
        }
      ]
    },
    {
      "cell_type": "code",
      "source": [
        "df['atrapalha desempenho acadêmico'].value_counts()"
      ],
      "metadata": {
        "colab": {
          "base_uri": "https://localhost:8080/"
        },
        "id": "KapuAbG_RAd5",
        "outputId": "92a93c31-be03-4d3c-f81d-6f666457c08a"
      },
      "execution_count": 9,
      "outputs": [
        {
          "output_type": "execute_result",
          "data": {
            "text/plain": [
              "Concordo                     27\n",
              "Discordo                     23\n",
              "Não concordo nem discordo    20\n",
              "Discordo totalmente          14\n",
              "Concordo totalmente          12\n",
              "Name: atrapalha desempenho acadêmico, dtype: int64"
            ]
          },
          "metadata": {},
          "execution_count": 9
        }
      ]
    },
    {
      "cell_type": "code",
      "source": [
        "df['quão nocivos a saude mental'].value_counts().plot(kind='barh', figsize= (11,6), title='Influência dos jogos digitais sobre a saúde mental')\n"
      ],
      "metadata": {
        "id": "T-KNvQNoYvU-",
        "colab": {
          "base_uri": "https://localhost:8080/",
          "height": 407
        },
        "outputId": "a04f7a90-e8c0-4920-809e-3181a19b9e2c"
      },
      "execution_count": 10,
      "outputs": [
        {
          "output_type": "execute_result",
          "data": {
            "text/plain": [
              "<matplotlib.axes._subplots.AxesSubplot at 0x7fd1a3aec4f0>"
            ]
          },
          "metadata": {},
          "execution_count": 10
        },
        {
          "output_type": "display_data",
          "data": {
            "text/plain": [
              "<Figure size 792x432 with 1 Axes>"
            ],
            "image/png": "[encoded data removed]"
          },
          "metadata": {
            "needs_background": "light"
          }
        }
      ]
    },
    {
      "cell_type": "code",
      "source": [
        "# quantos porcento foi alvo de comportamento nocivo?\n",
        "df['foi alvo de comportamento nocivo'].value_counts()\n",
        "print(84 * 100 /96)"
      ],
      "metadata": {
        "id": "hR2KIZeOjjjZ",
        "colab": {
          "base_uri": "https://localhost:8080/"
        },
        "outputId": "54bead85-2376-49b4-9537-13d0d15005c7"
      },
      "execution_count": 11,
      "outputs": [
        {
          "output_type": "stream",
          "name": "stdout",
          "text": [
            "87.5\n"
          ]
        }
      ]
    },
    {
      "cell_type": "code",
      "source": [
        "# quão afetado pelo comportamento nocivo? utilizando intervalos de confiança\n",
        "\n",
        "def bootstrap(data, alpha=0.95, n_rep=100):\n",
        "  print(data)\n",
        "  theta_hat_error_list = list()\n",
        "  theta = np.mean(data)\n",
        "  \n",
        "  # Resampling\n",
        "  for i in range(0,n_rep):\n",
        "    x = resample(data, replace=True)\n",
        "    theta_hat_error = np.mean(x) - theta\n",
        "    theta_hat_error_list.append(theta_hat_error)\n",
        "\n",
        "  # Percentiles\n",
        "  lower_p = ((1.0-alpha)/2.0) * 100\n",
        "  upper_p = (alpha+((1.0-alpha)/2.0)) * 100\n",
        "\n",
        "  # Lower and Upper Bounds\n",
        "  lower_value = np.percentile(theta_hat_error_list, lower_p)\n",
        "  upper_value = np.percentile(theta_hat_error_list, upper_p)\n",
        "\n",
        "  lower_limit = theta+lower_value\n",
        "  upper_limit = theta+upper_value\n",
        "\n",
        "  return theta, lower_limit, upper_limit\n",
        "\n",
        "subset = df['quão afetado pelo comportamento nocivo'].dropna().to_numpy()\n",
        "subset_float = subset.astype(float)\n",
        "\n",
        "theta, lower_limit, upper_limit = bootstrap(subset_float)\n",
        "print(theta, lower_limit, upper_limit)"
      ],
      "metadata": {
        "id": "UjOS4DWZZqZ9",
        "colab": {
          "base_uri": "https://localhost:8080/"
        },
        "outputId": "998a7fc3-aebf-4f7f-a4ad-72ad8c217382"
      },
      "execution_count": 12,
      "outputs": [
        {
          "output_type": "stream",
          "name": "stdout",
          "text": [
            "[4. 2. 3. 4. 1. 3. 4. 5. 1. 3. 2. 2. 2. 3. 1. 3. 3. 3. 2. 1. 2. 4. 3. 3.\n",
            " 4. 2. 2. 1. 3. 2. 1. 4. 1. 3. 4. 2. 1. 1. 3. 5. 2. 3. 1. 5. 1. 1. 4. 2.\n",
            " 1. 2. 1. 4. 3. 1. 3. 2. 2. 4. 2. 1. 4. 2. 1. 3. 2. 5. 3. 3. 1. 1. 5. 3.\n",
            " 3. 1. 4. 1. 2. 5. 1. 1. 1. 4. 3. 2.]\n",
            "2.488095238095238 2.238095238095238 2.7562499999999996\n"
          ]
        }
      ]
    },
    {
      "cell_type": "code",
      "source": [
        "# frequencia que afeta o sono\n",
        "\n",
        "df['frequencia que afeta sono'].value_counts().plot(kind='pie', figsize= (17,10))"
      ],
      "metadata": {
        "id": "d3If8h0skvHI",
        "colab": {
          "base_uri": "https://localhost:8080/",
          "height": 592
        },
        "outputId": "4a997e87-9eb0-4474-a55d-a83fe62815c8"
      },
      "execution_count": 15,
      "outputs": [
        {
          "output_type": "execute_result",
          "data": {
            "text/plain": [
              "<matplotlib.axes._subplots.AxesSubplot at 0x7fd1a39cde80>"
            ]
          },
          "metadata": {},
          "execution_count": 15
        },
        {
          "output_type": "display_data",
          "data": {
            "text/plain": [
              "<Figure size 1224x720 with 1 Axes>"
            ],
            "image/png": "[encoded data removed]"
          },
          "metadata": {}
        }
      ]
    },
    {
      "cell_type": "code",
      "source": [
        "\n",
        "df['frequencia que afeta sono'].value_counts().plot(kind='bar', figsize= (6,4),title='Frequência em que o sono é afetado pelo consumo de jogos digitais')"
      ],
      "metadata": {
        "colab": {
          "base_uri": "https://localhost:8080/",
          "height": 444
        },
        "id": "VHkU5xapS4S8",
        "outputId": "84438831-5900-4fcf-ef46-4e5d4e5de508"
      },
      "execution_count": 32,
      "outputs": [
        {
          "output_type": "execute_result",
          "data": {
            "text/plain": [
              "<matplotlib.axes._subplots.AxesSubplot at 0x7fd1a22495e0>"
            ]
          },
          "metadata": {},
          "execution_count": 32
        },
        {
          "output_type": "display_data",
          "data": {
            "text/plain": [
              "<Figure size 432x288 with 1 Axes>"
            ],
            "image/png": "[encoded data removed]"
          },
          "metadata": {
            "needs_background": "light"
          }
        }
      ]
    },
    {
      "cell_type": "markdown",
      "source": [],
      "metadata": {
        "id": "ZkrxikcGWkHv"
      }
    },
    {
      "cell_type": "markdown",
      "source": [
        "Conclusões:\n",
        "- das 114 respostas obtidas no formulario, 96 tem alguma ligação com jogos digitais, sendo 52,6% que jogavam com frequência antes de entrar, mas diminuiram a frequência apos o inicio do curso e 28,9% jogava com frequência antes de entrar no curso e se mantem jogando com frequência após o ingresso, o que implica que uma parte significativa da amostra jogava ou ainda joga jogos digitais.\n",
        "- Uma grande parcela também concorda que o hábito de jogar influenciou a escolha pelo curso (colocar os dados exatos)\n",
        "- A quantidade de horas jogadas é bem inferior a quantidade de horas dedicadas a graduação, o que pode mostrar que apesar do habito de jogar os alunos priorizam os estudos\n",
        "- A maioria (porem nao muito expressiva) acredita que jogar nao atrapalha seu desempenho academico\n",
        "- com relação ao ambiente dos jogos digitais a maioria considera pouco ou moderamdamente nocivo. A grande maioria dos respondentes (mais de 80 por cento) ja sofreu um comportamento nocivo, mas em média são afetados por esse comportamento em 2.2023809523809526 pontos (sendo o maximo 5), com intervalo de confiança variando entre 2.488095238095238 e 2.6910714285714286. O que significa que nao sao muito afetados pelos comportamentos nocivos\n",
        "- A maioria dos alunos nao considera que seu sono é muito afetado pelos jogos.\n",
        "- Podemos ver que parece haver uma relação relativamente saudavel dos alunos com os jogos digitais, apesar de ser frequente sofrer comportamentos nocivos no ambiente, a maioria nao se sente muito afetado com isso e também concilia bem os estudos com os jogos.\n",
        "- existe uma relação entre jogar com frequencia e escolher o curso? tentar fazer essa correlação\n"
      ],
      "metadata": {
        "id": "o32ZypLX1M0O"
      }
    },
    {
      "cell_type": "code",
      "source": [],
      "metadata": {
        "id": "K7ZY2_Md5VA-"
      },
      "execution_count": 13,
      "outputs": []
    }
  ]
}